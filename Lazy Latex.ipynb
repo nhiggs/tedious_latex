{
 "cells": [
  {
   "cell_type": "markdown",
   "metadata": {},
   "source": [
    "$(n+1)\\log(n+1)-n+1-2\\log2$"
   ]
  },
  {
   "cell_type": "markdown",
   "metadata": {},
   "source": [
    "$=(n+1)\\log\\left(n\\left(1+\\frac{1}{n}\\right)\\right)-n+1-2\\log2$"
   ]
  },
  {
   "cell_type": "markdown",
   "metadata": {},
   "source": [
    "$=(n+1)\\log n+(n+1)\\log\\left(1+\\frac{1}{n}\\right)-n+1-2\\log2$"
   ]
  },
  {
   "cell_type": "markdown",
   "metadata": {},
   "source": [
    "$=n\\log n+\\log n-n+(n+1)\\left(\\frac{1}{n}-\\frac{1}{2n^2}+\\frac{1}{3n^2}-\\ldots\\right)+1-2\\log2$"
   ]
  },
  {
   "cell_type": "markdown",
   "metadata": {},
   "source": [
    "$\\leq n\\log n+\\log n-n+\\frac{n+1}{n}+1-2\\log 2$\n",
    "\n"
   ]
  },
  {
   "cell_type": "markdown",
   "metadata": {},
   "source": [
    " "
   ]
  },
  {
   "cell_type": "markdown",
   "metadata": {},
   "source": [
    " "
   ]
  },
  {
   "cell_type": "markdown",
   "metadata": {},
   "source": [
    "$n! \\leq e^{n\\log n-n+\\log n+1} = n^ne^{-n}\\cdot en$"
   ]
  },
  {
   "cell_type": "markdown",
   "metadata": {},
   "source": [
    " "
   ]
  },
  {
   "cell_type": "markdown",
   "metadata": {},
   "source": []
  }
 ],
 "metadata": {
  "kernelspec": {
   "display_name": "Python 3",
   "language": "python",
   "name": "python3"
  },
  "language_info": {
   "codemirror_mode": {
    "name": "ipython",
    "version": 3
   },
   "file_extension": ".py",
   "mimetype": "text/x-python",
   "name": "python",
   "nbconvert_exporter": "python",
   "pygments_lexer": "ipython3",
   "version": "3.6.5"
  }
 },
 "nbformat": 4,
 "nbformat_minor": 2
}
